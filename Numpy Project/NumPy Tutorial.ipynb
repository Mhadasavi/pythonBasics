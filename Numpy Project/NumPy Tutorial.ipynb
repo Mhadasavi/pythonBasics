{
 "cells": [
  {
   "cell_type": "markdown",
   "id": "14429de1-875e-4bef-8b04-bc3f1a526660",
   "metadata": {},
   "source": [
    "# Welcome to Numpy"
   ]
  },
  {
   "cell_type": "code",
   "execution_count": 1,
   "id": "c18a9434-e1ff-476c-bf16-b7ab8c221e48",
   "metadata": {},
   "outputs": [],
   "source": [
    "import numpy as np"
   ]
  },
  {
   "cell_type": "markdown",
   "id": "cd616598-2aea-4bfa-b68c-eb8447a9fe95",
   "metadata": {},
   "source": [
    "# Array Creation : Conversion from other python structures"
   ]
  },
  {
   "cell_type": "code",
   "execution_count": 2,
   "id": "6fdba926-f6fc-48bc-ac69-ef65a4174bdc",
   "metadata": {},
   "outputs": [],
   "source": [
    "single_dimensional_arr = np.array([1,2,3], np.int32)"
   ]
  },
  {
   "cell_type": "code",
   "execution_count": 3,
   "id": "6ff48a7e-722b-45d4-968e-a4bd55f7262b",
   "metadata": {},
   "outputs": [
    {
     "data": {
      "text/plain": [
       "array([1, 2, 3], dtype=int32)"
      ]
     },
     "execution_count": 3,
     "metadata": {},
     "output_type": "execute_result"
    }
   ],
   "source": [
    "single_dimensional_arr"
   ]
  },
  {
   "cell_type": "code",
   "execution_count": 4,
   "id": "23243a6f-9680-43ca-aae0-7cd66c9453e3",
   "metadata": {},
   "outputs": [
    {
     "data": {
      "text/plain": [
       "np.int32(2)"
      ]
     },
     "execution_count": 4,
     "metadata": {},
     "output_type": "execute_result"
    }
   ],
   "source": [
    "single_dimensional_arr[1]"
   ]
  },
  {
   "cell_type": "code",
   "execution_count": 5,
   "id": "dec7f97f-3371-4ab9-9505-1907bf044ee6",
   "metadata": {},
   "outputs": [],
   "source": [
    "two_dimensional_array = np.array([[3,6,9,12],[2,4,6,8], [4,8,12,16]])"
   ]
  },
  {
   "cell_type": "code",
   "execution_count": 6,
   "id": "c2a5080c-8ad4-4969-803c-78ad6fc6c688",
   "metadata": {},
   "outputs": [
    {
     "data": {
      "text/plain": [
       "array([[ 3,  6,  9, 12],\n",
       "       [ 2,  4,  6,  8],\n",
       "       [ 4,  8, 12, 16]])"
      ]
     },
     "execution_count": 6,
     "metadata": {},
     "output_type": "execute_result"
    }
   ],
   "source": [
    "two_dimensional_array"
   ]
  },
  {
   "cell_type": "code",
   "execution_count": 7,
   "id": "eed6bd01-da74-4ebb-8fd9-d3484a312051",
   "metadata": {},
   "outputs": [
    {
     "data": {
      "text/plain": [
       "np.int64(16)"
      ]
     },
     "execution_count": 7,
     "metadata": {},
     "output_type": "execute_result"
    }
   ],
   "source": [
    "two_dimensional_array[2, 3]"
   ]
  },
  {
   "cell_type": "code",
   "execution_count": 8,
   "id": "74927cc7-5042-44cb-9cbf-fc652bc4875c",
   "metadata": {},
   "outputs": [
    {
     "data": {
      "text/plain": [
       "(3, 4)"
      ]
     },
     "execution_count": 8,
     "metadata": {},
     "output_type": "execute_result"
    }
   ],
   "source": [
    "two_dimensional_array.shape"
   ]
  },
  {
   "cell_type": "code",
   "execution_count": 9,
   "id": "77108ada-2ff0-4612-938c-28da1ee3a4ef",
   "metadata": {},
   "outputs": [
    {
     "data": {
      "text/plain": [
       "dtype('int64')"
      ]
     },
     "execution_count": 9,
     "metadata": {},
     "output_type": "execute_result"
    }
   ],
   "source": [
    "two_dimensional_array.dtype"
   ]
  },
  {
   "cell_type": "code",
   "execution_count": 10,
   "id": "789e87c4-ccc0-4119-b510-386affb712aa",
   "metadata": {},
   "outputs": [
    {
     "data": {
      "text/plain": [
       "12"
      ]
     },
     "execution_count": 10,
     "metadata": {},
     "output_type": "execute_result"
    }
   ],
   "source": [
    "two_dimensional_array.size"
   ]
  },
  {
   "cell_type": "markdown",
   "id": "188662c3-f2fb-48ca-b87b-d02d84a46c61",
   "metadata": {},
   "source": [
    "# Intrinsic NumPy array creation functions"
   ]
  },
  {
   "cell_type": "code",
   "execution_count": 11,
   "id": "f9d27c25-8770-4ab0-b096-ddf328c7ecd2",
   "metadata": {},
   "outputs": [],
   "source": [
    "zero_arr = np.zeros((2,5))"
   ]
  },
  {
   "cell_type": "code",
   "execution_count": 12,
   "id": "5d8404c2-320a-4e93-a510-a7c79f284963",
   "metadata": {},
   "outputs": [
    {
     "data": {
      "text/plain": [
       "array([[0., 0., 0., 0., 0.],\n",
       "       [0., 0., 0., 0., 0.]])"
      ]
     },
     "execution_count": 12,
     "metadata": {},
     "output_type": "execute_result"
    }
   ],
   "source": [
    "zero_arr"
   ]
  },
  {
   "cell_type": "code",
   "execution_count": 13,
   "id": "e46fc084-66cd-412e-a2c1-874e895bd97f",
   "metadata": {},
   "outputs": [
    {
     "data": {
      "text/plain": [
       "dtype('float64')"
      ]
     },
     "execution_count": 13,
     "metadata": {},
     "output_type": "execute_result"
    }
   ],
   "source": [
    "zero_arr.dtype"
   ]
  },
  {
   "cell_type": "code",
   "execution_count": 14,
   "id": "b979afa2-1571-4276-8de7-8f587fc39d0f",
   "metadata": {},
   "outputs": [
    {
     "data": {
      "text/plain": [
       "(2, 5)"
      ]
     },
     "execution_count": 14,
     "metadata": {},
     "output_type": "execute_result"
    }
   ],
   "source": [
    "zero_arr.shape"
   ]
  },
  {
   "cell_type": "code",
   "execution_count": 15,
   "id": "e65839ab-959d-4eec-bf23-eb2df8204cd0",
   "metadata": {},
   "outputs": [
    {
     "data": {
      "text/plain": [
       "10"
      ]
     },
     "execution_count": 15,
     "metadata": {},
     "output_type": "execute_result"
    }
   ],
   "source": [
    "zero_arr.size"
   ]
  },
  {
   "cell_type": "markdown",
   "id": "625b93f4-a6b4-4604-9749-35833c8fefe2",
   "metadata": {},
   "source": [
    " ** Using arange - generates arrays with evenly spaced values within a defined interval **"
   ]
  },
  {
   "cell_type": "code",
   "execution_count": 16,
   "id": "c377c220-b33c-4ff7-a762-583db9269a32",
   "metadata": {},
   "outputs": [],
   "source": [
    "rng = np.arange(15)"
   ]
  },
  {
   "cell_type": "code",
   "execution_count": 17,
   "id": "b25d4aee-8191-4260-b6cf-9dcb18ec824f",
   "metadata": {},
   "outputs": [
    {
     "data": {
      "text/plain": [
       "array([ 0,  1,  2,  3,  4,  5,  6,  7,  8,  9, 10, 11, 12, 13, 14])"
      ]
     },
     "execution_count": 17,
     "metadata": {},
     "output_type": "execute_result"
    }
   ],
   "source": [
    "rng"
   ]
  },
  {
   "cell_type": "markdown",
   "id": "01966d10-e958-4efe-9f65-dc9ad5796298",
   "metadata": {},
   "source": [
    "** Using linspace - it generates an array of evenly spaced numbers over a defined interval **"
   ]
  },
  {
   "cell_type": "code",
   "execution_count": 18,
   "id": "1b1bbf21-33b3-49b0-a91b-1f61636d0a7d",
   "metadata": {},
   "outputs": [],
   "source": [
    "linspace = np.linspace(1,5,4)"
   ]
  },
  {
   "cell_type": "code",
   "execution_count": 19,
   "id": "73428a6a-1c3d-4da2-b926-be797f1430c7",
   "metadata": {},
   "outputs": [
    {
     "data": {
      "text/plain": [
       "array([1.        , 2.33333333, 3.66666667, 5.        ])"
      ]
     },
     "execution_count": 19,
     "metadata": {},
     "output_type": "execute_result"
    }
   ],
   "source": [
    "linspace"
   ]
  },
  {
   "cell_type": "markdown",
   "id": "399366d1-48b1-4558-9732-f2e3ddae505b",
   "metadata": {},
   "source": [
    " ** empty() - it is used to create a new array of given shape and type, without initializing entries **"
   ]
  },
  {
   "cell_type": "code",
   "execution_count": 20,
   "id": "1d8c1ae1-bd1c-4efe-9f29-77dca65e2068",
   "metadata": {},
   "outputs": [],
   "source": [
    "empty_arr = np.empty((2,3))"
   ]
  },
  {
   "cell_type": "code",
   "execution_count": 21,
   "id": "3e69c559-db81-472e-a96a-2fca2cb0fb27",
   "metadata": {},
   "outputs": [
    {
     "data": {
      "text/plain": [
       "array([[6.23042070e-307, 4.67296746e-307, 1.69121096e-306],\n",
       "       [1.06810268e-306, 1.89146896e-307, 7.56571288e-307]])"
      ]
     },
     "execution_count": 21,
     "metadata": {},
     "output_type": "execute_result"
    }
   ],
   "source": [
    "empty_arr"
   ]
  },
  {
   "cell_type": "code",
   "execution_count": 22,
   "id": "6d1e30e1-448c-4b9b-bcc8-ca6856302e08",
   "metadata": {},
   "outputs": [],
   "source": [
    "ide = np.identity(45)"
   ]
  },
  {
   "cell_type": "code",
   "execution_count": 23,
   "id": "de5283f9-fdb7-4460-9eec-9165082f17fe",
   "metadata": {},
   "outputs": [
    {
     "data": {
      "text/plain": [
       "array([[1., 0., 0., ..., 0., 0., 0.],\n",
       "       [0., 1., 0., ..., 0., 0., 0.],\n",
       "       [0., 0., 1., ..., 0., 0., 0.],\n",
       "       ...,\n",
       "       [0., 0., 0., ..., 1., 0., 0.],\n",
       "       [0., 0., 0., ..., 0., 1., 0.],\n",
       "       [0., 0., 0., ..., 0., 0., 1.]])"
      ]
     },
     "execution_count": 23,
     "metadata": {},
     "output_type": "execute_result"
    }
   ],
   "source": [
    "ide"
   ]
  },
  {
   "cell_type": "code",
   "execution_count": 24,
   "id": "01e71923-0562-4863-8688-19678741f7be",
   "metadata": {},
   "outputs": [
    {
     "data": {
      "text/plain": [
       "(45, 45)"
      ]
     },
     "execution_count": 24,
     "metadata": {},
     "output_type": "execute_result"
    }
   ],
   "source": [
    "ide.shape"
   ]
  },
  {
   "cell_type": "markdown",
   "id": "3f1fb94a-d9d0-4cc5-8887-e47b234a89e4",
   "metadata": {},
   "source": [
    "** reshape means changing the shape of an array. **"
   ]
  },
  {
   "cell_type": "code",
   "execution_count": 25,
   "id": "b9470d59-f018-4798-8a45-07775f188703",
   "metadata": {},
   "outputs": [],
   "source": [
    "# reshape_arr = rng.reshape(3,4)"
   ]
  },
  {
   "cell_type": "code",
   "execution_count": 26,
   "id": "fe38e70e",
   "metadata": {},
   "outputs": [],
   "source": [
    "reshape_arr = rng.reshape(3,5)"
   ]
  },
  {
   "cell_type": "code",
   "execution_count": 27,
   "id": "f01d4747-5f74-4a1e-843d-0427afd7e858",
   "metadata": {},
   "outputs": [
    {
     "data": {
      "text/plain": [
       "array([[ 0,  1,  2,  3,  4],\n",
       "       [ 5,  6,  7,  8,  9],\n",
       "       [10, 11, 12, 13, 14]])"
      ]
     },
     "execution_count": 27,
     "metadata": {},
     "output_type": "execute_result"
    }
   ],
   "source": [
    "reshape_arr"
   ]
  },
  {
   "cell_type": "code",
   "execution_count": 28,
   "id": "26ed77bd-80ef-4d30-ae76-a19eb8ad244b",
   "metadata": {},
   "outputs": [
    {
     "data": {
      "text/plain": [
       "(3, 5)"
      ]
     },
     "execution_count": 28,
     "metadata": {},
     "output_type": "execute_result"
    }
   ],
   "source": [
    "reshape_arr.shape"
   ]
  },
  {
   "cell_type": "markdown",
   "id": "32aa2ba1-76eb-4e4f-99d9-19e1bebfd928",
   "metadata": {},
   "source": [
    "** ravel() provide a flattened view of a multi-dimensional array **"
   ]
  },
  {
   "cell_type": "code",
   "execution_count": 29,
   "id": "d5acd979-831f-43fe-bb7d-aa5e9b45e0ed",
   "metadata": {},
   "outputs": [
    {
     "data": {
      "text/plain": [
       "array([ 0,  1,  2,  3,  4,  5,  6,  7,  8,  9, 10, 11, 12, 13, 14])"
      ]
     },
     "execution_count": 29,
     "metadata": {},
     "output_type": "execute_result"
    }
   ],
   "source": [
    "reshape_arr.ravel()"
   ]
  },
  {
   "cell_type": "code",
   "execution_count": 30,
   "id": "66c4ae74-212e-4944-9bdf-2240c3a3b7dc",
   "metadata": {},
   "outputs": [],
   "source": [
    "x = [[1,2,3],[4,5,6],[7,8,9]]"
   ]
  },
  {
   "cell_type": "code",
   "execution_count": 31,
   "id": "88ce28ee-2a54-47b9-aab8-646f9ce4c85d",
   "metadata": {},
   "outputs": [],
   "source": [
    "axis_arr = np.array(x)"
   ]
  },
  {
   "cell_type": "code",
   "execution_count": 32,
   "id": "893421f2-92a3-4672-a379-614941441b5c",
   "metadata": {},
   "outputs": [
    {
     "name": "stdout",
     "output_type": "stream",
     "text": [
      "[[1 2 3]\n",
      " [4 5 6]\n",
      " [7 8 9]]\n"
     ]
    }
   ],
   "source": [
    "print(axis_arr)"
   ]
  },
  {
   "cell_type": "code",
   "execution_count": 33,
   "id": "ae1a8360-e773-431a-9964-d660f30aaef9",
   "metadata": {},
   "outputs": [
    {
     "data": {
      "text/plain": [
       "array([12, 15, 18])"
      ]
     },
     "execution_count": 33,
     "metadata": {},
     "output_type": "execute_result"
    }
   ],
   "source": [
    "axis_arr.sum(axis=0) # this sums the col"
   ]
  },
  {
   "cell_type": "code",
   "execution_count": 34,
   "id": "aa9aebba-ad8b-4196-9b4c-1fc19be10740",
   "metadata": {},
   "outputs": [
    {
     "data": {
      "text/plain": [
       "array([ 6, 15, 24])"
      ]
     },
     "execution_count": 34,
     "metadata": {},
     "output_type": "execute_result"
    }
   ],
   "source": [
    "axis_arr.sum(axis=1) # this sums the rows"
   ]
  },
  {
   "cell_type": "code",
   "execution_count": 35,
   "id": "e5120ee8-c0f7-4a21-88ef-bd992e235b6b",
   "metadata": {},
   "outputs": [
    {
     "name": "stdout",
     "output_type": "stream",
     "text": [
      "1\n",
      "2\n",
      "3\n",
      "4\n",
      "5\n",
      "6\n",
      "7\n",
      "8\n",
      "9\n"
     ]
    }
   ],
   "source": [
    "for item in axis_arr.flat:\n",
    "    print(item)"
   ]
  },
  {
   "cell_type": "markdown",
   "id": "45165f6b-7861-42ca-90d3-ed6ce7c47594",
   "metadata": {},
   "source": [
    "** Difference in size **"
   ]
  },
  {
   "cell_type": "code",
   "execution_count": 36,
   "id": "2707997d-a1d0-4514-b991-a618f9e7f992",
   "metadata": {},
   "outputs": [],
   "source": [
    "import sys"
   ]
  },
  {
   "cell_type": "code",
   "execution_count": 37,
   "id": "f0cc3c23-b9a0-4c02-bd6a-732903f85f7e",
   "metadata": {},
   "outputs": [],
   "source": [
    "py_arr = [1,2,3,55]"
   ]
  },
  {
   "cell_type": "code",
   "execution_count": 38,
   "id": "e5415c98-2d1e-4a23-89ff-2d38c37ccf88",
   "metadata": {},
   "outputs": [],
   "source": [
    "np_arr = np.array(py_arr)"
   ]
  },
  {
   "cell_type": "code",
   "execution_count": 39,
   "id": "d1d69085-5aeb-45df-9368-8c9a87547db3",
   "metadata": {},
   "outputs": [
    {
     "data": {
      "text/plain": [
       "112"
      ]
     },
     "execution_count": 39,
     "metadata": {},
     "output_type": "execute_result"
    }
   ],
   "source": [
    "sys.getsizeof(1)*len(py_arr)"
   ]
  },
  {
   "cell_type": "code",
   "execution_count": 40,
   "id": "9c55fa80-3946-44f5-bb71-fea5c699964f",
   "metadata": {},
   "outputs": [
    {
     "data": {
      "text/plain": [
       "32"
      ]
     },
     "execution_count": 40,
     "metadata": {},
     "output_type": "execute_result"
    }
   ],
   "source": [
    "np_arr.itemsize * np_arr.size"
   ]
  },
  {
   "cell_type": "code",
   "execution_count": null,
   "id": "d94395c8-f54d-44a7-83cb-22fa0f261585",
   "metadata": {},
   "outputs": [],
   "source": []
  }
 ],
 "metadata": {
  "kernelspec": {
   "display_name": "Python 3 (ipykernel)",
   "language": "python",
   "name": "python3"
  },
  "language_info": {
   "codemirror_mode": {
    "name": "ipython",
    "version": 3
   },
   "file_extension": ".py",
   "mimetype": "text/x-python",
   "name": "python",
   "nbconvert_exporter": "python",
   "pygments_lexer": "ipython3",
   "version": "3.9.20"
  }
 },
 "nbformat": 4,
 "nbformat_minor": 5
}
